{
 "cells": [
  {
   "cell_type": "code",
   "execution_count": 1,
   "metadata": {},
   "outputs": [],
   "source": [
    "import Orange\n",
    "import pickle\n",
    "import random\n",
    "import numpy as np\n",
    "import sklearn\n",
    "from sklearn.neural_network import MLPClassifier"
   ]
  },
  {
   "cell_type": "code",
   "execution_count": 2,
   "metadata": {},
   "outputs": [
    {
     "name": "stdout",
     "output_type": "stream",
     "text": [
      "<class 'Orange.classification.base_classification.SklModelClassification'>\n",
      "<class 'sklearn.neural_network._multilayer_perceptron.MLPClassifier'>\n"
     ]
    }
   ],
   "source": [
    "ai_orange3 = pickle.load(open('./models/orange3-model.pkcls', 'rb'))\n",
    "ai_sklearn = pickle.load(open('./models/sklearn-model.pkcls', 'rb'))\n",
    "print(type(ai_orange3))\n",
    "print(type(ai_sklearn))"
   ]
  },
  {
   "cell_type": "code",
   "execution_count": 9,
   "metadata": {},
   "outputs": [
    {
     "name": "stdout",
     "output_type": "stream",
     "text": [
      "Input:  [1.  0.2 0.4 0.8 0.6 0.6]\n",
      "Prediction:  (array([2.]), array([[0.09207587, 0.01993647, 0.88798766]]))\n",
      "Input:  [0.  0.  0.4 0.2 0.8 0. ]\n",
      "Prediction:  (array([1.]), array([[0.00976282, 0.84629655, 0.14394063]]))\n",
      "Input:  [0.75 0.8  0.8  0.   0.   0.6 ]\n",
      "Prediction:  (array([0.]), array([[0.96342798, 0.00739363, 0.0291784 ]]))\n",
      "Input:  [0.  0.4 1.  0.6 0.4 0. ]\n",
      "Prediction:  (array([2.]), array([[4.21446563e-05, 4.53072525e-01, 5.46885330e-01]]))\n",
      "Input:  [0.25 0.   0.   1.   0.6  0.8 ]\n",
      "Prediction:  (array([2.]), array([[4.89012132e-06, 4.09426040e-01, 5.90569070e-01]]))\n"
     ]
    }
   ],
   "source": [
    "# predict a few random predictions to see if output is sensible\n",
    "# should have mostly 'x', but also a few 'A'(left) and 'B'(right)\n",
    "for x in range(5):\n",
    "    pr = np.array([random.randint(0,4)*0.25,\n",
    "                   random.randint(0,5)*0.2,\n",
    "                   random.randint(0,5)*0.2,\n",
    "                   random.randint(0,5)*0.2,\n",
    "                   random.randint(0,5)*0.2,\n",
    "                   random.randint(0,5)*0.2])\n",
    "    print(\"Input: \",pr)\n",
    "    print(\"Prediction: \",ai_orange3.predict(pr.reshape(1,-1)))\n"
   ]
  },
  {
   "cell_type": "code",
   "execution_count": 4,
   "metadata": {},
   "outputs": [
    {
     "name": "stdout",
     "output_type": "stream",
     "text": [
      "Input:  [0.75 0.2  0.6  0.2  0.8  1.  ]\n",
      "Prediction:  ['A'] [[0.74433684 0.00531492 0.25034824]]\n",
      "Input:  [0.  0.6 0.6 1.  0.2 0. ]\n",
      "Prediction:  ['x'] [[8.31411458e-04 4.23955588e-02 9.56773030e-01]]\n",
      "Input:  [0.5 0.  0.8 1.  0.2 0.4]\n",
      "Prediction:  ['B'] [[0.1212363  0.61933623 0.25942747]]\n",
      "Input:  [1.  0.8 0.  0.8 0.2 0.6]\n",
      "Prediction:  ['x'] [[3.97952178e-01 1.72352965e-04 6.01875469e-01]]\n",
      "Input:  [0.  0.6 0.8 0.6 0.8 0.6]\n",
      "Prediction:  ['x'] [[3.51907677e-04 5.24629861e-02 9.47185106e-01]]\n"
     ]
    }
   ],
   "source": [
    "# predict a few random predictions to see if output is sensible\n",
    "# should have mostly 'x', but also a few 'A'(left) and 'B'(right)\n",
    "for x in range(5):\n",
    "    pr = np.array([random.randint(0,4)*0.25,\n",
    "                   random.randint(0,5)*0.2,\n",
    "                   random.randint(0,5)*0.2,\n",
    "                   random.randint(0,5)*0.2,\n",
    "                   random.randint(0,5)*0.2,\n",
    "                   random.randint(0,5)*0.2])\n",
    "    print(\"Input: \",pr)\n",
    "    print(\"Prediction: \",ai_sklearn.predict(pr.reshape(1,-1)),ai_sklearn.predict_proba(pr.reshape(1,-1)))\n"
   ]
  },
  {
   "cell_type": "code",
   "execution_count": 21,
   "metadata": {},
   "outputs": [
    {
     "data": {
      "text/plain": [
       "<bound method SklModel.__repr__ of SklModelClassification(skl_model=MLPClassifierWCallback(activation='tanh', alpha=0.0001, batch_size='auto',\n",
       "                       beta_1=0.9, beta_2=0.999, early_stopping=False,\n",
       "                       epsilon=1e-08, hidden_layer_sizes=(10, 10),\n",
       "                       learning_rate='constant', learning_rate_init=0.001,\n",
       "                       max_fun=15000, max_iter=2500, momentum=0.9,\n",
       "                       n_iter_no_change=10, nesterovs_momentum=True,\n",
       "                       power_t=0.5, random_state=1, shuffle=True,\n",
       "                       solver='lbfgs', tol=0.0001, validation_fraction=0.1,\n",
       "                       verbose=False, warm_start=False))  # params={'hidden_layer_sizes': (10, 10), 'activation': 'tanh', 'solver': 'lbfgs', 'alpha': 0.0001, 'batch_size': 'auto', 'learning_rate': 'constant', 'learning_rate_init': 0.001, 'power_t': 0.5, 'max_iter': 2500, 'shuffle': True, 'random_state': 1, 'tol': 0.0001, 'verbose': False, 'warm_start': False, 'momentum': 0.9, 'nesterovs_momentum': True, 'early_stopping': False, 'validation_fraction': 0.1, 'beta_1': 0.9, 'beta_2': 0.999, 'epsilon': 1e-08}>"
      ]
     },
     "execution_count": 21,
     "metadata": {},
     "output_type": "execute_result"
    }
   ],
   "source": [
    "ai_orange3.__repr__"
   ]
  },
  {
   "cell_type": "code",
   "execution_count": 35,
   "metadata": {},
   "outputs": [
    {
     "data": {
      "text/plain": [
       "{'activation': 'tanh',\n",
       " 'alpha': 0.0001,\n",
       " 'batch_size': 'auto',\n",
       " 'beta_1': 0.9,\n",
       " 'beta_2': 0.999,\n",
       " 'early_stopping': False,\n",
       " 'epsilon': 1e-08,\n",
       " 'hidden_layer_sizes': (10, 10),\n",
       " 'learning_rate': 'constant',\n",
       " 'learning_rate_init': 0.001,\n",
       " 'max_fun': 15000,\n",
       " 'max_iter': 2500,\n",
       " 'momentum': 0.9,\n",
       " 'n_iter_no_change': 10,\n",
       " 'nesterovs_momentum': True,\n",
       " 'power_t': 0.5,\n",
       " 'random_state': None,\n",
       " 'shuffle': True,\n",
       " 'solver': 'lbfgs',\n",
       " 'tol': 0.0001,\n",
       " 'validation_fraction': 0.1,\n",
       " 'verbose': False,\n",
       " 'warm_start': False}"
      ]
     },
     "execution_count": 35,
     "metadata": {},
     "output_type": "execute_result"
    }
   ],
   "source": [
    "ai_sklearn.get_params(True)"
   ]
  },
  {
   "cell_type": "code",
   "execution_count": null,
   "metadata": {},
   "outputs": [],
   "source": []
  }
 ],
 "metadata": {
  "kernelspec": {
   "display_name": "Python [conda env:ki-calliope] *",
   "language": "python",
   "name": "conda-env-ki-calliope-py"
  },
  "language_info": {
   "codemirror_mode": {
    "name": "ipython",
    "version": 3
   },
   "file_extension": ".py",
   "mimetype": "text/x-python",
   "name": "python",
   "nbconvert_exporter": "python",
   "pygments_lexer": "ipython3",
   "version": "3.7.6"
  }
 },
 "nbformat": 4,
 "nbformat_minor": 4
}
