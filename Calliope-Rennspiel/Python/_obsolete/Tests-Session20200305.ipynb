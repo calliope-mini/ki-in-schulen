{
 "cells": [
  {
   "cell_type": "code",
   "execution_count": 1,
   "metadata": {},
   "outputs": [],
   "source": [
    "import pickle\n",
    "import random\n",
    "import numpy as np\n",
    "import sklearn\n",
    "from sklearn.neural_network import MLPClassifier"
   ]
  },
  {
   "cell_type": "code",
   "execution_count": 14,
   "metadata": {},
   "outputs": [
    {
     "name": "stdout",
     "output_type": "stream",
     "text": [
      "<class 'sklearn.neural_network._multilayer_perceptron.MLPClassifier'>\n"
     ]
    },
    {
     "name": "stderr",
     "output_type": "stream",
     "text": [
      "/media/LinData/dev/anaconda3/envs/ki-calliope/lib/python3.7/site-packages/sklearn/base.py:318: UserWarning: Trying to unpickle estimator LabelBinarizer from version 0.22.2 when using version 0.22.1. This might lead to breaking code or invalid results. Use at your own risk.\n",
      "  UserWarning)\n",
      "/media/LinData/dev/anaconda3/envs/ki-calliope/lib/python3.7/site-packages/sklearn/base.py:318: UserWarning: Trying to unpickle estimator MLPClassifier from version 0.22.2 when using version 0.22.1. This might lead to breaking code or invalid results. Use at your own risk.\n",
      "  UserWarning)\n"
     ]
    }
   ],
   "source": [
    "ai_sklearn = pickle.load(open('./sklearn-py-model_test2-tanh.pkcls', 'rb'))\n",
    "print(type(ai_sklearn))"
   ]
  },
  {
   "cell_type": "code",
   "execution_count": 15,
   "metadata": {},
   "outputs": [
    {
     "name": "stdout",
     "output_type": "stream",
     "text": [
      "Input:  [0.75 1.   0.   0.   0.2  0.  ]\n",
      "Prediction:  ['x'] [[0.07545753 0.00197733 0.92256514]]\n",
      "Input:  [1.  0.6 1.  0.8 0.2 0.8]\n",
      "Prediction:  ['A'] [[0.68467318 0.00106448 0.31426234]]\n",
      "Input:  [0.5 1.  1.  0.8 1.  0. ]\n",
      "Prediction:  ['x'] [[0.0629899  0.10201438 0.83499572]]\n",
      "Input:  [0.25 0.6  0.4  0.8  0.2  0.2 ]\n",
      "Prediction:  ['x'] [[0.00191113 0.00552367 0.9925652 ]]\n",
      "Input:  [0.5 0.8 0.2 0.6 0.4 1. ]\n",
      "Prediction:  ['A'] [[0.50551931 0.18691928 0.30756141]]\n"
     ]
    }
   ],
   "source": [
    "# predict a few random predictions to see if output is sensible\n",
    "# should have mostly 'x', but also a few 'A'(left) and 'B'(right)\n",
    "for x in range(5):\n",
    "    pr = np.array([random.randint(0,4)*0.25,\n",
    "                   random.randint(0,5)*0.2,\n",
    "                   random.randint(0,5)*0.2,\n",
    "                   random.randint(0,5)*0.2,\n",
    "                   random.randint(0,5)*0.2,\n",
    "                   random.randint(0,5)*0.2])\n",
    "    print(\"Input: \",pr)\n",
    "    print(\"Prediction: \",ai_sklearn.predict(pr.reshape(1,-1)),ai_sklearn.predict_proba(pr.reshape(1,-1)))\n"
   ]
  },
  {
   "cell_type": "code",
   "execution_count": 19,
   "metadata": {},
   "outputs": [
    {
     "name": "stdout",
     "output_type": "stream",
     "text": [
      "Input:  [0.5 0.5 0.5 0.5 0.5 0.5]\n",
      "Prediction:  ['x'] [[0.08759474 0.03815631 0.87424895]]\n"
     ]
    }
   ],
   "source": [
    "pr = np.array([0.5,\n",
    "                   0.5,\n",
    "                   0.5,\n",
    "                   0.5,\n",
    "                   0.5,\n",
    "                   0.5])\n",
    "print(\"Input: \",pr)\n",
    "print(\"Prediction: \",ai_sklearn.predict(pr.reshape(1,-1)),ai_sklearn.predict_proba(pr.reshape(1,-1)))"
   ]
  },
  {
   "cell_type": "code",
   "execution_count": 18,
   "metadata": {},
   "outputs": [
    {
     "name": "stdout",
     "output_type": "stream",
     "text": [
      "Input:  [0. 0. 0. 0. 0. 0.]\n",
      "Prediction:  ['x'] [[0.00079371 0.46778928 0.53141701]]\n"
     ]
    }
   ],
   "source": [
    "pr = np.array([0.0,\n",
    "                   0.0,\n",
    "                   0.0,\n",
    "                   0.0,\n",
    "                   0.0,\n",
    "                   0.0])\n",
    "print(\"Input: \",pr)\n",
    "print(\"Prediction: \",ai_sklearn.predict(pr.reshape(1,-1)),ai_sklearn.predict_proba(pr.reshape(1,-1)))"
   ]
  },
  {
   "cell_type": "code",
   "execution_count": 17,
   "metadata": {},
   "outputs": [
    {
     "name": "stdout",
     "output_type": "stream",
     "text": [
      "Input:  [1. 1. 1. 1. 1. 1.]\n",
      "Prediction:  ['x'] [[0.15395015 0.00308759 0.84296226]]\n"
     ]
    }
   ],
   "source": [
    "pr = np.array([1.0,\n",
    "                   1.0,\n",
    "                   1.0,\n",
    "                   1.0,\n",
    "                   1.0,\n",
    "                   1.0])\n",
    "print(\"Input: \",pr)\n",
    "print(\"Prediction: \",ai_sklearn.predict(pr.reshape(1,-1)),ai_sklearn.predict_proba(pr.reshape(1,-1)))"
   ]
  },
  {
   "cell_type": "code",
   "execution_count": 13,
   "metadata": {},
   "outputs": [
    {
     "data": {
      "text/plain": [
       "{'activation': 'relu',\n",
       " 'alpha': 0.0001,\n",
       " 'batch_size': 'auto',\n",
       " 'beta_1': 0.9,\n",
       " 'beta_2': 0.999,\n",
       " 'early_stopping': False,\n",
       " 'epsilon': 1e-08,\n",
       " 'hidden_layer_sizes': (10, 10),\n",
       " 'learning_rate': 'constant',\n",
       " 'learning_rate_init': 0.001,\n",
       " 'max_fun': 15000,\n",
       " 'max_iter': 5000,\n",
       " 'momentum': 0.9,\n",
       " 'n_iter_no_change': 100,\n",
       " 'nesterovs_momentum': True,\n",
       " 'power_t': 0.5,\n",
       " 'random_state': None,\n",
       " 'shuffle': True,\n",
       " 'solver': 'adam',\n",
       " 'tol': 0.0001,\n",
       " 'validation_fraction': 0.1,\n",
       " 'verbose': False,\n",
       " 'warm_start': False}"
      ]
     },
     "execution_count": 13,
     "metadata": {},
     "output_type": "execute_result"
    }
   ],
   "source": [
    "ai_sklearn.get_params(True)"
   ]
  },
  {
   "cell_type": "code",
   "execution_count": null,
   "metadata": {},
   "outputs": [],
   "source": []
  }
 ],
 "metadata": {
  "kernelspec": {
   "display_name": "Python [conda env:ki-calliope] *",
   "language": "python",
   "name": "conda-env-ki-calliope-py"
  },
  "language_info": {
   "codemirror_mode": {
    "name": "ipython",
    "version": 3
   },
   "file_extension": ".py",
   "mimetype": "text/x-python",
   "name": "python",
   "nbconvert_exporter": "python",
   "pygments_lexer": "ipython3",
   "version": "3.7.6"
  }
 },
 "nbformat": 4,
 "nbformat_minor": 4
}
