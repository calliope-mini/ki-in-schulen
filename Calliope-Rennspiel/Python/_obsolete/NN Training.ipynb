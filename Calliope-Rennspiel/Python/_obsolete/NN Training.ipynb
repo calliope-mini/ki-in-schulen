{
 "cells": [
  {
   "cell_type": "code",
   "execution_count": 2,
   "metadata": {},
   "outputs": [],
   "source": [
    "# Import required libraries\n",
    "import pandas as pd\n",
    "import numpy as np \n",
    "import matplotlib.pyplot as plt\n",
    "import sklearn\n",
    "from sklearn.neural_network import MLPClassifier"
   ]
  },
  {
   "cell_type": "code",
   "execution_count": 3,
   "metadata": {},
   "outputs": [
    {
     "name": "stdout",
     "output_type": "stream",
     "text": [
      "The scikit-learn version is 0.22.1.\n"
     ]
    }
   ],
   "source": [
    "print('The scikit-learn version is {}.'.format(sklearn.__version__))"
   ]
  },
  {
   "cell_type": "code",
   "execution_count": 34,
   "metadata": {},
   "outputs": [],
   "source": [
    "# here use the filename from Orange pipeline after normalization and stratified 80/20 train test split\n",
    "\n",
    "# 60 minutes\n",
    "# filename_train = './csv-preprocessed/train-80p-stratified-60min-data.csv'\n",
    "# filename_test = './csv-preprocessed/test-20p-stratified-60min-data.csv'\n",
    "\n",
    "# 120 minutes\n",
    "filename_train = './csv-preprocessed/train-80p-stratified-120min-data.csv'\n",
    "filename_test = './csv-preprocessed/test-20p-stratified-120min-data.csv'"
   ]
  },
  {
   "cell_type": "code",
   "execution_count": 35,
   "metadata": {},
   "outputs": [
    {
     "name": "stdout",
     "output_type": "stream",
     "text": [
      "(7225, 8)\n"
     ]
    },
    {
     "data": {
      "text/html": [
       "<div>\n",
       "<style scoped>\n",
       "    .dataframe tbody tr th:only-of-type {\n",
       "        vertical-align: middle;\n",
       "    }\n",
       "\n",
       "    .dataframe tbody tr th {\n",
       "        vertical-align: top;\n",
       "    }\n",
       "\n",
       "    .dataframe thead th {\n",
       "        text-align: right;\n",
       "    }\n",
       "</style>\n",
       "<table border=\"1\" class=\"dataframe\">\n",
       "  <thead>\n",
       "    <tr style=\"text-align: right;\">\n",
       "      <th></th>\n",
       "      <th>PlayerPos</th>\n",
       "      <th>Car1Pos</th>\n",
       "      <th>Car2Pos</th>\n",
       "      <th>Car3Pos</th>\n",
       "      <th>Car4Pos</th>\n",
       "      <th>Car5Pos</th>\n",
       "      <th>Action</th>\n",
       "    </tr>\n",
       "  </thead>\n",
       "  <tbody>\n",
       "    <tr>\n",
       "      <th>0</th>\n",
       "      <td>0.50</td>\n",
       "      <td>0.2</td>\n",
       "      <td>0.0</td>\n",
       "      <td>0.6</td>\n",
       "      <td>0.0</td>\n",
       "      <td>0.2</td>\n",
       "      <td>B</td>\n",
       "    </tr>\n",
       "    <tr>\n",
       "      <th>1</th>\n",
       "      <td>0.50</td>\n",
       "      <td>0.0</td>\n",
       "      <td>1.0</td>\n",
       "      <td>0.0</td>\n",
       "      <td>0.0</td>\n",
       "      <td>0.0</td>\n",
       "      <td>x</td>\n",
       "    </tr>\n",
       "    <tr>\n",
       "      <th>2</th>\n",
       "      <td>0.50</td>\n",
       "      <td>0.0</td>\n",
       "      <td>0.0</td>\n",
       "      <td>0.0</td>\n",
       "      <td>0.0</td>\n",
       "      <td>0.0</td>\n",
       "      <td>x</td>\n",
       "    </tr>\n",
       "    <tr>\n",
       "      <th>3</th>\n",
       "      <td>0.50</td>\n",
       "      <td>0.0</td>\n",
       "      <td>0.0</td>\n",
       "      <td>0.2</td>\n",
       "      <td>0.0</td>\n",
       "      <td>0.0</td>\n",
       "      <td>x</td>\n",
       "    </tr>\n",
       "    <tr>\n",
       "      <th>4</th>\n",
       "      <td>0.25</td>\n",
       "      <td>1.0</td>\n",
       "      <td>0.0</td>\n",
       "      <td>0.0</td>\n",
       "      <td>0.0</td>\n",
       "      <td>0.0</td>\n",
       "      <td>x</td>\n",
       "    </tr>\n",
       "  </tbody>\n",
       "</table>\n",
       "</div>"
      ],
      "text/plain": [
       "   PlayerPos  Car1Pos  Car2Pos  Car3Pos  Car4Pos  Car5Pos Action      \n",
       "0       0.50      0.2      0.0      0.6      0.0      0.2            B\n",
       "1       0.50      0.0      1.0      0.0      0.0      0.0            x\n",
       "2       0.50      0.0      0.0      0.0      0.0      0.0            x\n",
       "3       0.50      0.0      0.0      0.2      0.0      0.0            x\n",
       "4       0.25      1.0      0.0      0.0      0.0      0.0            x"
      ]
     },
     "execution_count": 35,
     "metadata": {},
     "output_type": "execute_result"
    }
   ],
   "source": [
    "df_train = pd.read_csv(filename_train) \n",
    "print(df_train.shape)\n",
    "df_train = df_train.drop(['Selected'], axis=1)\n",
    "df_train.head()"
   ]
  },
  {
   "cell_type": "code",
   "execution_count": 36,
   "metadata": {},
   "outputs": [
    {
     "name": "stdout",
     "output_type": "stream",
     "text": [
      "(1806, 8)\n"
     ]
    },
    {
     "data": {
      "text/html": [
       "<div>\n",
       "<style scoped>\n",
       "    .dataframe tbody tr th:only-of-type {\n",
       "        vertical-align: middle;\n",
       "    }\n",
       "\n",
       "    .dataframe tbody tr th {\n",
       "        vertical-align: top;\n",
       "    }\n",
       "\n",
       "    .dataframe thead th {\n",
       "        text-align: right;\n",
       "    }\n",
       "</style>\n",
       "<table border=\"1\" class=\"dataframe\">\n",
       "  <thead>\n",
       "    <tr style=\"text-align: right;\">\n",
       "      <th></th>\n",
       "      <th>PlayerPos</th>\n",
       "      <th>Car1Pos</th>\n",
       "      <th>Car2Pos</th>\n",
       "      <th>Car3Pos</th>\n",
       "      <th>Car4Pos</th>\n",
       "      <th>Car5Pos</th>\n",
       "      <th>Action</th>\n",
       "    </tr>\n",
       "  </thead>\n",
       "  <tbody>\n",
       "    <tr>\n",
       "      <th>0</th>\n",
       "      <td>0.75</td>\n",
       "      <td>0.0</td>\n",
       "      <td>1.0</td>\n",
       "      <td>0.8</td>\n",
       "      <td>0.6</td>\n",
       "      <td>0.2</td>\n",
       "      <td>B</td>\n",
       "    </tr>\n",
       "    <tr>\n",
       "      <th>1</th>\n",
       "      <td>0.50</td>\n",
       "      <td>0.0</td>\n",
       "      <td>0.0</td>\n",
       "      <td>0.0</td>\n",
       "      <td>1.0</td>\n",
       "      <td>0.0</td>\n",
       "      <td>x</td>\n",
       "    </tr>\n",
       "    <tr>\n",
       "      <th>2</th>\n",
       "      <td>0.25</td>\n",
       "      <td>0.0</td>\n",
       "      <td>0.4</td>\n",
       "      <td>0.0</td>\n",
       "      <td>0.0</td>\n",
       "      <td>0.6</td>\n",
       "      <td>B</td>\n",
       "    </tr>\n",
       "    <tr>\n",
       "      <th>3</th>\n",
       "      <td>0.50</td>\n",
       "      <td>0.8</td>\n",
       "      <td>0.0</td>\n",
       "      <td>0.2</td>\n",
       "      <td>1.0</td>\n",
       "      <td>0.0</td>\n",
       "      <td>x</td>\n",
       "    </tr>\n",
       "    <tr>\n",
       "      <th>4</th>\n",
       "      <td>0.50</td>\n",
       "      <td>0.4</td>\n",
       "      <td>1.0</td>\n",
       "      <td>0.4</td>\n",
       "      <td>1.0</td>\n",
       "      <td>0.6</td>\n",
       "      <td>x</td>\n",
       "    </tr>\n",
       "  </tbody>\n",
       "</table>\n",
       "</div>"
      ],
      "text/plain": [
       "   PlayerPos  Car1Pos  Car2Pos  Car3Pos  Car4Pos  Car5Pos Action      \n",
       "0       0.75      0.0      1.0      0.8      0.6      0.2            B\n",
       "1       0.50      0.0      0.0      0.0      1.0      0.0            x\n",
       "2       0.25      0.0      0.4      0.0      0.0      0.6            B\n",
       "3       0.50      0.8      0.0      0.2      1.0      0.0            x\n",
       "4       0.50      0.4      1.0      0.4      1.0      0.6            x"
      ]
     },
     "execution_count": 36,
     "metadata": {},
     "output_type": "execute_result"
    }
   ],
   "source": [
    "df_test = pd.read_csv(filename_test) \n",
    "print(df_test.shape)\n",
    "df_test = df_test.drop(['Selected'], axis=1)\n",
    "df_test.head()"
   ]
  },
  {
   "cell_type": "code",
   "execution_count": 37,
   "metadata": {},
   "outputs": [],
   "source": [
    "X = df_train[['PlayerPos','Car1Pos','Car2Pos','Car3Pos','Car4Pos','Car5Pos']].values\n",
    "y = df_train['Action      '].values\n",
    "#import sys\n",
    "#np.set_printoptions(threshold=sys.maxsize)\n",
    "#print(X)\n",
    "#print(y)"
   ]
  },
  {
   "cell_type": "code",
   "execution_count": 38,
   "metadata": {},
   "outputs": [],
   "source": [
    "Xt = df_test[['PlayerPos','Car1Pos','Car2Pos','Car3Pos','Car4Pos','Car5Pos']].values\n",
    "yt = df_test['Action      '].values"
   ]
  },
  {
   "cell_type": "code",
   "execution_count": 122,
   "metadata": {},
   "outputs": [],
   "source": [
    "mlp = MLPClassifier(hidden_layer_sizes=(10,10),\n",
    "                    activation='relu', # default relu\n",
    "                    solver='lbfgs', # default sgd\n",
    "                    max_iter=1000, # default 200\n",
    "                    alpha=0.0001, # default 0.0001\n",
    "                    n_iter_no_change=10 # default 10 - STAY AT 10 BECAUSE HARDCODED IN ORANGE\n",
    "                   ) "
   ]
  },
  {
   "cell_type": "code",
   "execution_count": 123,
   "metadata": {},
   "outputs": [
    {
     "name": "stderr",
     "output_type": "stream",
     "text": [
      "/media/LinData/dev/anaconda3/envs/ki-calliope/lib/python3.7/site-packages/sklearn/neural_network/_multilayer_perceptron.py:470: ConvergenceWarning: lbfgs failed to converge (status=1):\n",
      "STOP: TOTAL NO. of ITERATIONS REACHED LIMIT.\n",
      "\n",
      "Increase the number of iterations (max_iter) or scale the data as shown in:\n",
      "    https://scikit-learn.org/stable/modules/preprocessing.html\n",
      "  self.n_iter_ = _check_optimize_result(\"lbfgs\", opt_res, self.max_iter)\n"
     ]
    },
    {
     "data": {
      "text/plain": [
       "MLPClassifier(activation='relu', alpha=0.0001, batch_size='auto', beta_1=0.9,\n",
       "              beta_2=0.999, early_stopping=False, epsilon=1e-08,\n",
       "              hidden_layer_sizes=(10, 10), learning_rate='constant',\n",
       "              learning_rate_init=0.001, max_fun=15000, max_iter=1000,\n",
       "              momentum=0.9, n_iter_no_change=10, nesterovs_momentum=True,\n",
       "              power_t=0.5, random_state=None, shuffle=True, solver='lbfgs',\n",
       "              tol=0.0001, validation_fraction=0.1, verbose=False,\n",
       "              warm_start=False)"
      ]
     },
     "execution_count": 123,
     "metadata": {},
     "output_type": "execute_result"
    }
   ],
   "source": [
    "mlp.fit(X,y)"
   ]
  },
  {
   "cell_type": "code",
   "execution_count": 126,
   "metadata": {},
   "outputs": [],
   "source": [
    "import pickle\n",
    "mlp_file = open('./models/sklearn-model.pkcls', 'wb') \n",
    "pickle.dump(mlp, mlp_file)"
   ]
  },
  {
   "cell_type": "code",
   "execution_count": 125,
   "metadata": {},
   "outputs": [
    {
     "name": "stdout",
     "output_type": "stream",
     "text": [
      "Network accuracy score (train):  0.8377854671280277\n",
      "Network accuracy score (test):  0.8372093023255814\n"
     ]
    }
   ],
   "source": [
    "print(\"Network accuracy score (train): \",mlp.score(X,y))\n",
    "print(\"Network accuracy score (test): \",mlp.score(Xt,yt))"
   ]
  },
  {
   "cell_type": "markdown",
   "metadata": {},
   "source": [
    "| data size | NN size | activation | solver | max_iter | alpha | acc train | acc test |\n",
    "|-----------|---------|------------|--------|----------|-------|-----------|----------|\n",
    "| 60min | 10,10  | tanh | lbfgs | 2500 | 0.0001 | 85.84% | __85.84%__ |\n",
    "| 60min | 10,10  | relu | lbfgs | 2500 | 0.0001 | 83.79% | 82.28% |\n",
    "| 60min | 10,10  | relu | adam | 2500 | 0.0001 | 81.36% | 78.84% |"
   ]
  },
  {
   "cell_type": "markdown",
   "metadata": {},
   "source": [
    "| data size | NN size | activation | solver | max_iter | alpha | acc train | acc test |\n",
    "|-----------|---------|------------|--------|----------|-------|-----------|----------|\n",
    "| 120min | 10,10  | tanh | lbfgs | 2500 | 0.0001 | 84.55% | __83.72%__ |\n",
    "| 120min | 10,10  | tanh | lbfgs | 1000 | 0.0001 | 85.05% | 83.55% |\n",
    "| 120min | 10,10  | relu | lbfgs | 2500 | 0.0001 | 84.35% | 83.00% |\n",
    "| 120min | 10,10  | relu | lbfgs | 5000 | 0.0001 | 82.19% | 82.17% |\n",
    "| 120min | 10,10  | relu | lbfgs | 1000 | 0.0001 | 83.67% | __84.16%__ |\n",
    "| 120min | 10,10  | relu | adam | 2500 | 0.0001 | 83.04% | 82.23% |\n",
    "| 120min | 10,10  | relu | adam | 1000 | 0.0001 | 82.92% | 81.73% |\n",
    "| 120min | 10,10  | relu | adam | 5000 | 0.0001 | 83.28% | 83.17% |\n",
    "| 120min | 10,10  | relu | sgd | 2500 | 0.0001 | 81.92% | 81.51% |"
   ]
  },
  {
   "cell_type": "markdown",
   "metadata": {},
   "source": [
    "# Debug"
   ]
  },
  {
   "cell_type": "code",
   "execution_count": 12,
   "metadata": {},
   "outputs": [
    {
     "name": "stdout",
     "output_type": "stream",
     "text": [
      "Input:  [0.  1.  0.  0.  0.6 0.8]\n",
      "Prediction:  ['x']\n",
      "Input:  [0.  0.6 0.  0.  0.  0. ]\n",
      "Prediction:  ['B']\n",
      "Input:  [1.  0.  1.  0.2 1.  1. ]\n",
      "Prediction:  ['A']\n",
      "Input:  [0.5 0.  0.4 0.6 0.  0. ]\n",
      "Prediction:  ['B']\n",
      "Input:  [0.25 0.   0.4  0.   0.2  0.  ]\n",
      "Prediction:  ['x']\n",
      "Input:  [1.  0.6 1.  0.2 0.6 0. ]\n",
      "Prediction:  ['A']\n",
      "Input:  [0.75 1.   0.4  0.6  0.2  0.6 ]\n",
      "Prediction:  ['x']\n",
      "Input:  [0.75 0.8  0.   0.   0.8  0.6 ]\n",
      "Prediction:  ['A']\n",
      "Input:  [0.25 0.   0.8  0.   0.4  1.  ]\n",
      "Prediction:  ['B']\n",
      "Input:  [0.75 0.6  0.2  0.2  0.2  0.4 ]\n",
      "Prediction:  ['x']\n",
      "Input:  [0.  0.  0.4 0.4 0.  1. ]\n",
      "Prediction:  ['x']\n",
      "Input:  [0.25 0.2  0.   0.2  0.2  0.2 ]\n",
      "Prediction:  ['x']\n",
      "Input:  [0.25 1.   1.   0.8  0.   0.8 ]\n",
      "Prediction:  ['B']\n",
      "Input:  [1.  0.  0.2 0.  0.  0.8]\n",
      "Prediction:  ['A']\n",
      "Input:  [0.25 0.   1.   0.2  0.2  0.4 ]\n",
      "Prediction:  ['B']\n",
      "Input:  [0.75 0.   1.   0.2  0.   0.6 ]\n",
      "Prediction:  ['x']\n",
      "Input:  [1.  0.  0.4 1.  0.  1. ]\n",
      "Prediction:  ['A']\n",
      "Input:  [0.5 0.4 0.8 0.4 1.  0. ]\n",
      "Prediction:  ['x']\n",
      "Input:  [0.75 0.2  0.4  0.8  0.6  0.6 ]\n",
      "Prediction:  ['B']\n",
      "Input:  [0.25 0.8  1.   0.   1.   0.2 ]\n",
      "Prediction:  ['A']\n"
     ]
    }
   ],
   "source": [
    "# predict a few random predictions to see if output is sensible\n",
    "# should have mostly 'x', but also a few 'A'(left) and 'B'(right)\n",
    "import random\n",
    "for x in range(20):\n",
    "    pr = np.array([random.randint(0,4)*0.25,\n",
    "                   random.randint(0,5)*0.2,\n",
    "                   random.randint(0,5)*0.2,\n",
    "                   random.randint(0,5)*0.2,\n",
    "                   random.randint(0,5)*0.2,\n",
    "                   random.randint(0,5)*0.2])\n",
    "    print(\"Input: \",pr)\n",
    "    print(\"Prediction: \",mlp.predict(pr.reshape(1,-1)))\n"
   ]
  },
  {
   "cell_type": "code",
   "execution_count": 13,
   "metadata": {},
   "outputs": [
    {
     "name": "stdout",
     "output_type": "stream",
     "text": [
      "Network weights\n",
      "[array([[ 2.92982598, -2.59533988,  1.68390812, -6.45044018,  2.21847395,\n",
      "         9.09846116,  2.09019814,  7.47994636, -1.55154732,  4.053405  ],\n",
      "       [-0.13951569,  0.16532004,  0.35031744, -0.14538902, -0.14230515,\n",
      "        -0.04077859,  0.06114672,  0.56549284, -0.98225385, -0.24975129],\n",
      "       [ 1.3779408 , -0.65626776,  0.72276261,  0.91624962,  1.02740159,\n",
      "         0.85154398, -1.16521592, -0.7208113 , -6.0999097 ,  0.50902216],\n",
      "       [ 4.94442865,  1.16562836,  0.67292358,  1.8444296 , -0.84909359,\n",
      "        -0.38658771, -0.68875699, -3.23481914, -4.54541425,  1.73644381],\n",
      "       [ 0.34283657,  3.49122586, -1.07141273,  0.30191829,  1.88195363,\n",
      "         1.18214337, -5.25065642, -1.5788444 ,  2.81243613,  1.36685535],\n",
      "       [-0.05290731, -0.36936821, -1.37291634,  0.35314155,  0.65418381,\n",
      "        -0.15870702, -0.05026738,  0.27220292,  2.65996218, -0.21896395]]), array([[-2.95089874e+00,  6.33863210e+00, -5.64784825e-01,\n",
      "        -1.34862174e-01,  6.32867453e+00, -6.93072053e+00,\n",
      "        -2.76446263e+00, -4.28698039e+00, -8.03317104e-01,\n",
      "         2.76539314e+00],\n",
      "       [ 5.79895095e-01, -9.19510015e+00,  2.33771386e-01,\n",
      "         1.32312884e+01,  8.54901934e+00, -5.56905363e-01,\n",
      "         3.37500716e+00,  5.79642971e+00,  3.14798403e-01,\n",
      "        -3.59972036e+00],\n",
      "       [-1.14265946e+00, -1.35520658e+01, -5.36028785e-03,\n",
      "        -2.94413770e+00,  4.46875500e+00,  7.85978839e+00,\n",
      "        -3.05620140e+00,  9.21020632e-01,  1.51585913e-01,\n",
      "         3.61368181e+00],\n",
      "       [ 6.45857555e+00, -6.01469394e-01, -1.03160308e+00,\n",
      "        -2.60155781e+00,  3.66358923e+00,  2.74846385e+00,\n",
      "         5.31858144e+00,  1.76314377e+01,  7.10212466e-02,\n",
      "        -1.06319317e+01],\n",
      "       [-1.97276685e+00, -2.15927960e+00,  4.15142518e-01,\n",
      "        -4.21676472e+00,  1.79578768e+00,  8.45763920e+00,\n",
      "        -6.76088439e+00, -1.40965105e+00, -4.85121956e-02,\n",
      "        -1.56227099e+00],\n",
      "       [ 3.36960513e+00, -1.44461726e+00, -3.94443030e+00,\n",
      "        -6.36305430e+00,  1.51471980e-01,  1.15357224e+01,\n",
      "        -7.88027186e+00,  6.98760934e-01, -1.19283372e+00,\n",
      "        -4.80561946e+00],\n",
      "       [ 1.26324526e+00, -8.79875175e+00, -1.57579062e+00,\n",
      "         9.10906053e+00,  5.52157045e+00,  7.09297928e+00,\n",
      "        -8.06926747e+00,  5.86703321e+00, -5.09300852e-02,\n",
      "        -3.98477665e+00],\n",
      "       [ 3.69880541e+00, -1.12316158e+00,  1.35547589e+00,\n",
      "         4.70517062e+00,  1.13739045e+01,  6.11269490e+00,\n",
      "         6.92073105e+00,  4.49550849e+00,  1.02886093e-01,\n",
      "        -2.70772383e+00],\n",
      "       [ 2.51334232e-01, -1.13002334e+01, -4.16675575e-01,\n",
      "        -8.07980143e-01, -4.43702092e-02, -9.85902553e-01,\n",
      "         1.04786543e+00,  5.12631959e-01, -2.84400132e-01,\n",
      "         1.98691284e+00],\n",
      "       [ 3.52555263e+00,  1.71847070e+01,  3.62415484e+00,\n",
      "        -6.37929472e+00,  3.25595435e+00, -2.43483794e+00,\n",
      "         1.65547364e+00,  3.05531071e+00,  1.97123054e+00,\n",
      "        -2.17144239e+00]]), array([[  0.30475765,  -3.72432552,   2.89807721],\n",
      "       [  2.47523919,  -0.07113565,  -2.34002766],\n",
      "       [  6.47865935,  -3.58909989,  -4.11516189],\n",
      "       [ -7.46690826,   2.18849342,   5.37326228],\n",
      "       [  1.69779199,  -2.94359089,   0.5098125 ],\n",
      "       [  2.33500901,  -2.59166875,   0.43530021],\n",
      "       [  1.29487568,  -2.89745911,   0.87452631],\n",
      "       [  1.37053505,   1.68520382,  -2.80015337],\n",
      "       [-12.1493566 ,   3.98479873,   9.31744796],\n",
      "       [ -3.46432305,  -2.00026348,   3.62938781]])]\n"
     ]
    }
   ],
   "source": [
    "print(\"Network weights\")\n",
    "print(mlp.coefs_)"
   ]
  },
  {
   "cell_type": "code",
   "execution_count": 14,
   "metadata": {},
   "outputs": [
    {
     "name": "stdout",
     "output_type": "stream",
     "text": [
      "[array([-3.80692954, -0.99609635, -0.760793  ,  3.34655166, -1.14131986,\n",
      "       -5.14198978,  2.46194382, -3.65475694,  0.59807103, -2.08264843]), array([ -2.57641358,   5.22974549,   0.18196597,   3.55930069,\n",
      "         7.76041084, -10.3746859 ,   5.17933678, -14.01284557,\n",
      "         0.27489897,   0.22506589]), array([-3.91892902, -3.24655446,  6.87568216])]\n"
     ]
    }
   ],
   "source": [
    "print(mlp.intercepts_)"
   ]
  },
  {
   "cell_type": "code",
   "execution_count": null,
   "metadata": {},
   "outputs": [],
   "source": []
  }
 ],
 "metadata": {
  "kernelspec": {
   "display_name": "Python [conda env:ki-calliope] *",
   "language": "python",
   "name": "conda-env-ki-calliope-py"
  },
  "language_info": {
   "codemirror_mode": {
    "name": "ipython",
    "version": 3
   },
   "file_extension": ".py",
   "mimetype": "text/x-python",
   "name": "python",
   "nbconvert_exporter": "python",
   "pygments_lexer": "ipython3",
   "version": "3.7.6"
  }
 },
 "nbformat": 4,
 "nbformat_minor": 2
}
